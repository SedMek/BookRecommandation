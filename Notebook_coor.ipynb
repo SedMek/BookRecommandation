{
 "cells": [
  {
   "cell_type": "code",
   "execution_count": 1,
   "metadata": {},
   "outputs": [],
   "source": [
    "import pandas as pd\n",
    "import numpy as np\n",
    "import math\n",
    "import random\n",
    "import matplotlib.pyplot as plt\n",
    "from sklearn import model_selection\n",
    "import matplotlib.pyplot as plt\n",
    "from scipy.sparse.linalg import svds\n",
    "from scipy.stats import pearsonr as psr\n",
    "from scipy.sparse import csr_matrix"
   ]
  },
  {
   "cell_type": "markdown",
   "metadata": {},
   "source": [
    "# Data Setup and Analysis"
   ]
  },
  {
   "cell_type": "code",
   "execution_count": 109,
   "metadata": {
    "scrolled": true
   },
   "outputs": [],
   "source": [
    "# Reading rating file\n",
    "ratings = pd.read_csv('Data/BX-Book-Ratings.csv', sep=';', encoding='latin-1')\n",
    "\n",
    "# Reading users file\n",
    "users = pd.read_csv('Data/BX-Users.csv', sep=';', encoding='latin-1')\n",
    "\n",
    "# Reading books file\n",
    "books = pd.read_csv('Data/BX-Books.csv',  sep=';', encoding='latin-1')"
   ]
  },
  {
   "cell_type": "code",
   "execution_count": 3,
   "metadata": {},
   "outputs": [
    {
     "name": "stdout",
     "output_type": "stream",
     "text": [
      "Number of users: 278858\n",
      "Number of ratings 1149780\n"
     ]
    }
   ],
   "source": [
    "n_users = users['User-ID'].size\n",
    "n_ratings = ratings['User-ID'].size\n",
    "print('Number of users:', n_users)\n",
    "print('Number of ratings', n_ratings)"
   ]
  },
  {
   "cell_type": "code",
   "execution_count": 4,
   "metadata": {},
   "outputs": [
    {
     "name": "stdout",
     "output_type": "stream",
     "text": [
      "max number of rating for user: 13602\n"
     ]
    },
    {
     "data": {
      "image/png": "[encoded data removed]",
      "text/plain": [
       "<Figure size 432x288 with 1 Axes>"
      ]
     },
     "metadata": {
      "needs_background": "light"
     },
     "output_type": "display_data"
    }
   ],
   "source": [
    "# Data repartition (number of ratings per user)\n",
    "\n",
    "user_count = {}\n",
    "ratings_count = np.zeros(11)\n",
    "maximum = 0\n",
    "ID = -1\n",
    "\n",
    "for i in range(0,n_users):\n",
    "    user_count[i+1] = 0\n",
    "\n",
    "for element in ratings.values:\n",
    "    user, ISBN, rating = element\n",
    "    user_count[user]+=1\n",
    "    ratings_count[rating]+=1\n",
    "    if user_count[user]>maximum:\n",
    "        maximum = user_count[user]\n",
    "        ID = user\n",
    "\n",
    "print('max number of rating for user:',maximum)\n",
    "# Plotting \n",
    "num = np.zeros(maximum+1)\n",
    "for i in user_count:\n",
    "    num[user_count[i]]+=1\n",
    "    \n",
    "plt.bar(range(0,20),num[0:20])\n",
    "plt.xlabel('Number of Ratings')\n",
    "plt.ylabel('Number of Users')\n",
    "plt.show()"
   ]
  },
  {
   "cell_type": "code",
   "execution_count": 5,
   "metadata": {},
   "outputs": [
    {
     "name": "stdout",
     "output_type": "stream",
     "text": [
      "Number of users with 5 ratings or more: 22816\n"
     ]
    }
   ],
   "source": [
    "# Get the number of users with n ratings or more\n",
    "n = 5\n",
    "\n",
    "cc = 0\n",
    "k = 0\n",
    "for i in num:\n",
    "    if k>=n:\n",
    "        cc += int(i)\n",
    "    k+=1\n",
    "print('Number of users with 5 ratings or more:',cc)"
   ]
  },
  {
   "cell_type": "markdown",
   "metadata": {},
   "source": [
    "Most users only have 0 or 1 rating\n",
    "\n",
    "=> We chose to train and evaluate the model on users with more than 5 ratings"
   ]
  },
  {
   "cell_type": "code",
   "execution_count": 6,
   "metadata": {
    "scrolled": true
   },
   "outputs": [
    {
     "data": {
      "image/png": "[encoded data removed]",
      "text/plain": [
       "<Figure size 432x288 with 1 Axes>"
      ]
     },
     "metadata": {
      "needs_background": "light"
     },
     "output_type": "display_data"
    }
   ],
   "source": [
    "# rating repartition\n",
    "\n",
    "plt.bar(range(11),ratings_count)\n",
    "plt.ylabel('Number of Ratings')\n",
    "plt.xlabel('Rating')\n",
    "plt.show()"
   ]
  },
  {
   "cell_type": "markdown",
   "metadata": {},
   "source": [
    "0 ratings dominant and seem unrealistic\n",
    "\n",
    "=> delete all the 0 ratings"
   ]
  },
  {
   "cell_type": "code",
   "execution_count": 7,
   "metadata": {},
   "outputs": [
    {
     "data": {
      "image/png": "[encoded data removed]",
      "text/plain": [
       "<Figure size 432x288 with 1 Axes>"
      ]
     },
     "metadata": {
      "needs_background": "light"
     },
     "output_type": "display_data"
    }
   ],
   "source": [
    "# rating repartition\n",
    "\n",
    "plt.bar(range(1,11),ratings_count[1:])\n",
    "plt.ylabel('Number of Ratings')\n",
    "plt.xlabel('Rating')\n",
    "plt.show()"
   ]
  },
  {
   "cell_type": "markdown",
   "metadata": {},
   "source": [
    "# Data Clearing"
   ]
  },
  {
   "cell_type": "code",
   "execution_count": 8,
   "metadata": {},
   "outputs": [],
   "source": [
    "# Parameters\n",
    "min_val = 5\n",
    "min_ratings = 5"
   ]
  },
  {
   "cell_type": "code",
   "execution_count": 9,
   "metadata": {},
   "outputs": [],
   "source": [
    "# Initialisation\n",
    "cleaned_data = ratings.copy()\n",
    "cleaned_users = users.copy()\n",
    "cleaned_books = books.copy()"
   ]
  },
  {
   "cell_type": "code",
   "execution_count": 10,
   "metadata": {},
   "outputs": [],
   "source": [
    "# Delete all 0 ratings\n",
    "cleaned_data = cleaned_data[ cleaned_data['Book-Rating']>0]\n",
    "\n",
    "# Delete books with less than min_ratings ratings\n",
    "ratings_per_book =  cleaned_data['ISBN'].value_counts()\n",
    "cleaned_data = cleaned_data[cleaned_data['ISBN'].isin(ratings_per_book.index[ratings_per_book.values >= min_val])]"
   ]
  },
  {
   "cell_type": "code",
   "execution_count": 11,
   "metadata": {},
   "outputs": [],
   "source": [
    "# Number of ratings per user\n",
    "ratings_per_user = cleaned_data['User-ID'].value_counts()\n",
    "ratings_per_book = cleaned_data['ISBN'].value_counts()"
   ]
  },
  {
   "cell_type": "code",
   "execution_count": 12,
   "metadata": {},
   "outputs": [],
   "source": [
    "# Select data from users with more than min_val ratings\n",
    "cleaned_data = cleaned_data[cleaned_data['User-ID'].isin(ratings_per_user.index[ratings_per_user.values >= min_val])]\n",
    "\n",
    "# Get the selected users\n",
    "cleaned_users = sorted(cleaned_data['User-ID'].unique())"
   ]
  },
  {
   "cell_type": "code",
   "execution_count": 13,
   "metadata": {},
   "outputs": [],
   "source": [
    "# Create the pivot table\n",
    "table = pd.pivot_table(cleaned_data, values='Book-Rating', index='User-ID', columns='ISBN')"
   ]
  },
  {
   "cell_type": "code",
   "execution_count": 14,
   "metadata": {},
   "outputs": [],
   "source": [
    "# Create train and test set\n",
    "X_train, X_test = model_selection.train_test_split(table, test_size=0.25, random_state=42)"
   ]
  },
  {
   "cell_type": "code",
   "execution_count": 15,
   "metadata": {},
   "outputs": [],
   "source": [
    "# Get the users average rating\n",
    "means = {}\n",
    "idx = table.index\n",
    "for i in idx:\n",
    "    means[i] = np.nanmean(table[table.index==i])"
   ]
  },
  {
   "cell_type": "code",
   "execution_count": 16,
   "metadata": {},
   "outputs": [],
   "source": [
    "# Get the books average rating\n",
    "ISBN_means = {}\n",
    "ISBN_list = table.columns\n",
    "for i in ISBN_list:\n",
    "    ISBN_means[i] = np.nanmean(table[i].values)"
   ]
  },
  {
   "cell_type": "markdown",
   "metadata": {},
   "source": [
    "# User - User"
   ]
  },
  {
   "cell_type": "code",
   "execution_count": 154,
   "metadata": {},
   "outputs": [],
   "source": [
    "class User_User_prediction():\n",
    "    def __init__(self, books, table, means):\n",
    "        self.books = books\n",
    "        self.means = means\n",
    "        self.table = table\n",
    "        \n",
    "        table_test = table.copy()\n",
    "        table_test = table_test.replace(np.NaN, 0.)\n",
    "        self.sparse = csr_matrix(table_test.values)\n",
    "        print('Predictor has been set up')\n",
    "        \n",
    "        \n",
    "    def predict(self, user, k=-1):\n",
    "        \"\"\"\n",
    "        Predict the user's score on the books\n",
    "        \"\"\"\n",
    "        prediction = np.zeros(len(self.table.columns.values))\n",
    "        prediction.fill(means[user])\n",
    "        mask = np.isnan(self.table[table.index == user]) # mask to remove the already present values\n",
    "        sel = 0\n",
    "        sim_dic = {}\n",
    "        user_t = self.sparse[list(self.table.index).index(user)].nonzero()[1]\n",
    "\n",
    "        # Calculate the corelation between all users and the curent user\n",
    "        for user2 in table.index:\n",
    "            user2_t = self.sparse[list(self.table.index).index(user2)].nonzero()[1]\n",
    "            sim_dic[user2] = self.sim(user_t, user2_t, user, user2)\n",
    "        \n",
    "        # for each book\n",
    "        for i in range(len(table.columns)):\n",
    "            # find all the users that have rated the book\n",
    "            user_sel = self.table[self.table[self.table.columns[i]].isnull() == False].index\n",
    "            sel = 0\n",
    "            too = 0\n",
    "            ok = False\n",
    "            \n",
    "            # predict the current user's score based on the pearsons correlation\n",
    "            for user2 in user_sel:\n",
    "                to_add = sim_dic[user2] * (self.table[self.table.index == user2].values[0][i] - self.means[user2])\n",
    "                if np.isnan(to_add)==False:\n",
    "                    too += to_add\n",
    "                    sel += abs(sim_dic[user2])\n",
    "                    ok = True\n",
    "            too = too/(sel+10**-10)     \n",
    "            prediction[i] += too        \n",
    "        return prediction*mask\n",
    "\n",
    "    \n",
    "    def sim(self, user1_t, user2_t, user1, user2):\n",
    "        \"\"\"\n",
    "        Calculate the pearsons correlation between 2 users\n",
    "        \"\"\"\n",
    "        top = 0\n",
    "        bot1 = 0\n",
    "        bot2 = 0\n",
    "        table1 = self.table[self.table.index == user1].values[0]\n",
    "        table2 = self.table[self.table.index == user2].values[0]\n",
    "        mean1 = np.nanmean(table1)\n",
    "        mean2 = np.nanmean(table2)\n",
    "        \n",
    "        common = list(set(user1_t)-(set(user1_t)-set(user2_t)))\n",
    "        for i in common:\n",
    "            top += (table1[i]-mean1)*(table2[i]-mean2)\n",
    "            bot1 += (table1[i]-mean1)**2\n",
    "            bot2 += (table2[i]-mean2)**2       \n",
    "        if bot1 != 0 and bot2 != 0:\n",
    "            return top/(np.sqrt(bot1)*np.sqrt(bot2))\n",
    "        else:\n",
    "            return np.NaN\n",
    "\n",
    "    \n",
    "    def find_closest(self, dic, k=-1):\n",
    "        \"\"\"\n",
    "        Sorts the dictionnary and return the k biggest value, if k = -1, returns the dictionnary unsorted\n",
    "        \"\"\"\n",
    "        if k==-1:\n",
    "            return dic\n",
    "        else:\n",
    "            sorted_dic = sorted(dic.items(), key = lambda sd:(sd[1], sd[0]), reverse = True)\n",
    "            return sorted_dic[:k]\n",
    "        \n",
    "          \n",
    "    def get_max(self, prediction):\n",
    "        \"\"\"\n",
    "        gets the book titles for the books with maximal prediction\n",
    "        \"\"\"\n",
    "        max_val = np.argmax(prediction)\n",
    "        book = self.books[self.books['ISBN'] == prediction[max_val]]\n",
    "        \n",
    "    \n",
    "    def process(self, user, k=-1, n=5):\n",
    "        \"\"\"\n",
    "        Predicts the books with the highest probable ratings for the user\n",
    "        \"\"\"\n",
    "        prediction = self.predict(user, k).values[0]\n",
    "        return prediction\n",
    "        idx = np.argpartition(prediction, -n)[-n:]\n",
    "        idx = idx[np.argsort(prediction[idx])]\n",
    "        best = self.table.columns[idx]\n",
    "        return best"
   ]
  },
  {
   "cell_type": "markdown",
   "metadata": {},
   "source": [
    "We can now pick a random user and predict his scores !"
   ]
  },
  {
   "cell_type": "code",
   "execution_count": 155,
   "metadata": {},
   "outputs": [
    {
     "name": "stdout",
     "output_type": "stream",
     "text": [
      "Predictor has been set up\n",
      "user 245568 will be predicted\n",
      "intersting books ISBN for245568: [5.46059313 6.46059313 6.94444444 ... 6.94444444 6.94444444 6.18834688]\n"
     ]
    }
   ],
   "source": [
    "Predictor = User_User_prediction(books, table, means)\n",
    "user = random.choice(table.index)\n",
    "print(\"user \"+str(user)+\" will be predicted\")\n",
    "interesting_books = Predictor.process(user)\n",
    "print(\"intersting books ISBN for \" + str(user) +\":\", interesting_books)"
   ]
  },
  {
   "cell_type": "code",
   "execution_count": null,
   "metadata": {},
   "outputs": [],
   "source": []
  }
 ],
 "metadata": {
  "kernelspec": {
   "display_name": "Python 3",
   "language": "python",
   "name": "python3"
  },
  "language_info": {
   "codemirror_mode": {
    "name": "ipython",
    "version": 3
   },
   "file_extension": ".py",
   "mimetype": "text/x-python",
   "name": "python",
   "nbconvert_exporter": "python",
   "pygments_lexer": "ipython3",
   "version": "3.6.8"
  }
 },
 "nbformat": 4,
 "nbformat_minor": 2
}
