{
 "cells": [
  {
   "cell_type": "code",
   "execution_count": 1,
   "metadata": {},
   "outputs": [],
   "source": [
    "import pandas as pd\n",
    "import numpy as np\n",
    "import matplotlib.pyplot as plt\n",
    "from sklearn import model_selection\n",
    "import matplotlib.pyplot as plt\n",
    "from scipy.stats import pearsonr as psr"
   ]
  },
  {
   "cell_type": "markdown",
   "metadata": {},
   "source": [
    "# Data Setup and Analysis"
   ]
  },
  {
   "cell_type": "code",
   "execution_count": 2,
   "metadata": {
    "scrolled": true
   },
   "outputs": [],
   "source": [
    "# Reading rating file\n",
    "ratings = pd.read_csv('Data/BX-Book-Ratings.csv', sep=';', encoding='latin-1')\n",
    "\n",
    "# Reading users file\n",
    "users = pd.read_csv('Data/BX-Users.csv', sep=';', encoding='latin-1')\n",
    "\n",
    "# Reading books file\n",
    "books = pd.read_csv('Data/BX-Books.csv',  sep=';', encoding='latin-1')"
   ]
  },
  {
   "cell_type": "code",
   "execution_count": 3,
   "metadata": {},
   "outputs": [
    {
     "name": "stdout",
     "output_type": "stream",
     "text": [
      "Number of users: 278858\n",
      "Number of ratings 1149780\n"
     ]
    }
   ],
   "source": [
    "n_users = users['User-ID'].size\n",
    "n_ratings = ratings['User-ID'].size\n",
    "print('Number of users:', n_users)\n",
    "print('Number of ratings', n_ratings)"
   ]
  },
  {
   "cell_type": "code",
   "execution_count": 7,
   "metadata": {},
   "outputs": [
    {
     "name": "stdout",
     "output_type": "stream",
     "text": [
      "13602\n"
     ]
    },
    {
     "data": {
      "image/png": "[encoded data removed]",
      "text/plain": [
       "<Figure size 432x288 with 1 Axes>"
      ]
     },
     "metadata": {
      "needs_background": "light"
     },
     "output_type": "display_data"
    }
   ],
   "source": [
    "# Data repartition (number of ratings per user)\n",
    "\n",
    "user_count = {}\n",
    "ratings_count = np.zeros(11)\n",
    "maximum = 0\n",
    "ID = -1\n",
    "\n",
    "for i in range(0,n_users):\n",
    "    user_count[i+1] = 0\n",
    "\n",
    "for element in ratings.values:\n",
    "    user, ISBN, rating = element\n",
    "    user_count[user]+=1\n",
    "    ratings_count[rating]+=1\n",
    "    if user_count[user]>maximum:\n",
    "        maximum = user_count[user]\n",
    "        ID = user\n",
    "\n",
    "print(maximum)\n",
    "# Plotting \n",
    "val = np.zeros(maximum+1)\n",
    "for i in range(len(val)):\n",
    "    val[i]=i\n",
    "num = np.zeros(maximum+1)\n",
    "for i in user_count:\n",
    "    num[user_count[i]]+=1\n",
    "    \n",
    "plt.bar(val[0:11],num[0:11])\n",
    "plt.xlabel('Number of Ratings')\n",
    "plt.ylabel('Number of Users')\n",
    "plt.show()"
   ]
  },
  {
   "cell_type": "code",
   "execution_count": null,
   "metadata": {},
   "outputs": [],
   "source": [
    "plt.bar(val[0:11],num[0:11])\n",
    "plt.legen\n",
    "plt.show()"
   ]
  },
  {
   "cell_type": "code",
   "execution_count": 5,
   "metadata": {},
   "outputs": [
    {
     "name": "stdout",
     "output_type": "stream",
     "text": [
      "Number of users with 5 ratings or more: 22816\n"
     ]
    }
   ],
   "source": [
    "# Get the number of users with n ratings or more\n",
    "n = 5\n",
    "\n",
    "cc = 0\n",
    "k = 0\n",
    "for i in num:\n",
    "    if k>=n:\n",
    "        cc += int(i)\n",
    "    k+=1\n",
    "print('Number of users with 5 ratings or more:',cc)"
   ]
  },
  {
   "cell_type": "markdown",
   "metadata": {},
   "source": [
    "Most users only have 0 or 1 rating\n",
    "\n",
    "=> We chose to train and evaluate the model on users with more than 5 ratings"
   ]
  },
  {
   "cell_type": "code",
   "execution_count": 8,
   "metadata": {},
   "outputs": [
    {
     "data": {
      "image/png": "[encoded data removed]",
      "text/plain": [
       "<Figure size 432x288 with 1 Axes>"
      ]
     },
     "metadata": {
      "needs_background": "light"
     },
     "output_type": "display_data"
    }
   ],
   "source": [
    "# rating repartition\n",
    "\n",
    "plt.bar(range(11),ratings_count)\n",
    "plt.xlabel('Number of Ratings')\n",
    "plt.ylabel('Rating')\n",
    "plt.show()"
   ]
  },
  {
   "cell_type": "markdown",
   "metadata": {},
   "source": [
    "0 ratings dominant and seem unrealistic\n",
    "\n",
    "=> delete all the 0 ratings"
   ]
  },
  {
   "cell_type": "markdown",
   "metadata": {},
   "source": [
    "# Data Clearing"
   ]
  },
  {
   "cell_type": "code",
   "execution_count": null,
   "metadata": {},
   "outputs": [],
   "source": [
    "# Parameters\n",
    "min_val = 5\n",
    "min_ratings = 5"
   ]
  },
  {
   "cell_type": "code",
   "execution_count": null,
   "metadata": {},
   "outputs": [],
   "source": [
    "# Initialisation\n",
    "cleaned_data = ratings.copy()\n",
    "cleaned_users = users.copy()\n",
    "cleaned_books = books.copy()"
   ]
  },
  {
   "cell_type": "code",
   "execution_count": null,
   "metadata": {},
   "outputs": [],
   "source": [
    "# Delete all 0 ratings\n",
    "cleaned_data = cleaned_data[ cleaned_data['Book-Rating']>0]\n",
    "\n",
    "# Delete books with less than min_ratings ratings\n",
    "ratings_per_book =  cleaned_data['ISBN'].value_counts()\n",
    "cleaned_data = cleaned_data[cleaned_data['ISBN'].isin(ratings_per_book.index[ratings_per_book.values >= min_val])]"
   ]
  },
  {
   "cell_type": "code",
   "execution_count": null,
   "metadata": {},
   "outputs": [],
   "source": [
    "# Number of ratings per user\n",
    "ratings_per_user = cleaned_data['User-ID'].value_counts()\n",
    "ratings_per_book = cleaned_data['ISBN'].value_counts()"
   ]
  },
  {
   "cell_type": "code",
   "execution_count": null,
   "metadata": {},
   "outputs": [],
   "source": [
    "# Select data from users with more than min_val ratings\n",
    "cleaned_data = cleaned_data[cleaned_data['User-ID'].isin(ratings_per_user.index[ratings_per_user.values >= min_val])]\n",
    "\n",
    "# Get the selected users\n",
    "cleaned_users = sorted(cleaned_data['User-ID'].unique())"
   ]
  },
  {
   "cell_type": "code",
   "execution_count": null,
   "metadata": {},
   "outputs": [],
   "source": [
    "# Create the pivot table\n",
    "mat_train = pd.pivot_table(cleaned_data, values='Book-Rating', index='User-ID', columns='ISBN')"
   ]
  },
  {
   "cell_type": "code",
   "execution_count": null,
   "metadata": {},
   "outputs": [],
   "source": [
    "# Get the users average rating\n",
    "means = {}\n",
    "idx = mat_train.index\n",
    "for i in idx:\n",
    "    means[i] = np.nanmean(mat_train[mat_train.index==i])"
   ]
  },
  {
   "cell_type": "code",
   "execution_count": null,
   "metadata": {},
   "outputs": [],
   "source": [
    "# Get the books average rating\n",
    "ISBN_means = {}\n",
    "ISBN_list = mat_train.columns\n",
    "for i in ISBN_list:\n",
    "    ISBN_means[i] = np.nanmean(mat_train[i].values)"
   ]
  },
  {
   "cell_type": "markdown",
   "metadata": {},
   "source": [
    "# User - User"
   ]
  },
  {
   "cell_type": "code",
   "execution_count": 103,
   "metadata": {},
   "outputs": [],
   "source": [
    "def pearsons(user1, user2):\n",
    "    return psr(user1, user2)[0]"
   ]
  },
  {
   "cell_type": "markdown",
   "metadata": {},
   "source": [
    "#### Etape 3 :  Faire les prédictions en utilisant la formule vue en cours\n",
    "\n",
    "La note de l'utilisateur $u$ sur l'élément $m$ est calculée comme :\n",
    "$$ pred(u,m) = \\bar{r}_u + \\sum_j sim(u,u_j) (r_{j,m} - \\bar{r}_j)$$, la somme sur les utilisateurs qui ont jugé $m$.\n"
   ]
  },
  {
   "cell_type": "code",
   "execution_count": 40,
   "metadata": {},
   "outputs": [
    {
     "ename": "AttributeError",
     "evalue": "'dict' object has no attribute 'sort'",
     "output_type": "error",
     "traceback": [
      "\u001b[1;31m---------------------------------------------------------------------------\u001b[0m",
      "\u001b[1;31mAttributeError\u001b[0m                            Traceback (most recent call last)",
      "\u001b[1;32m<ipython-input-40-c04442caa605>\u001b[0m in \u001b[0;36m<module>\u001b[1;34m\u001b[0m\n\u001b[0;32m      1\u001b[0m \u001b[0mu\u001b[0m\u001b[1;33m=\u001b[0m\u001b[1;33m{\u001b[0m\u001b[1;36m1\u001b[0m\u001b[1;33m:\u001b[0m\u001b[1;36m1\u001b[0m\u001b[1;33m,\u001b[0m \u001b[1;36m5\u001b[0m\u001b[1;33m:\u001b[0m\u001b[1;36m3\u001b[0m\u001b[1;33m,\u001b[0m \u001b[1;36m3\u001b[0m\u001b[1;33m:\u001b[0m\u001b[1;36m4\u001b[0m\u001b[1;33m}\u001b[0m\u001b[1;33m\u001b[0m\u001b[1;33m\u001b[0m\u001b[0m\n\u001b[1;32m----> 2\u001b[1;33m \u001b[0mu\u001b[0m\u001b[1;33m.\u001b[0m\u001b[0msort\u001b[0m\u001b[1;33m(\u001b[0m\u001b[1;33m)\u001b[0m\u001b[1;33m\u001b[0m\u001b[1;33m\u001b[0m\u001b[0m\n\u001b[0m",
      "\u001b[1;31mAttributeError\u001b[0m: 'dict' object has no attribute 'sort'"
     ]
    }
   ],
   "source": [
    "u={1:1, 5:3, 3:4}"
   ]
  },
  {
   "cell_type": "code",
   "execution_count": 57,
   "metadata": {},
   "outputs": [
    {
     "name": "stdout",
     "output_type": "stream",
     "text": [
      "[nan nan nan ... nan nan nan]\n"
     ]
    }
   ],
   "source": [
    "u = mat_train[mat_train.index == 99].values[0]\n",
    "print(u)\n"
   ]
  },
  {
   "cell_type": "code",
   "execution_count": null,
   "metadata": {},
   "outputs": [],
   "source": [
    "def predict(user, k, table):\n",
    "    prediction = 0\n",
    "    sim_dic = {}\n",
    "    user_t = table[mat_train.index = user].values[0]\n",
    "    \n",
    "    for user2 in cleaned_users:\n",
    "        user2_t = table[mat_train.index = user2].values[0]\n",
    "        sim_dic[user2] = sim(user_t, user2_t)\n",
    "        \n",
    "    \n",
    "    \n",
    "pred(u,m)"
   ]
  },
  {
   "cell_type": "code",
   "execution_count": null,
   "metadata": {},
   "outputs": [],
   "source": [
    "def find_closest(user, k, data, n_user):\n",
    "    closest = np.zeros(k)\n",
    "    sim = {}\n",
    "    for user2 in data:\n",
    "        score = pearsons(user, data[data.index=user2].values[0])\n",
    "        sim[user]=score\n",
    "    sim = sorted(sim.values)"
   ]
  },
  {
   "cell_type": "code",
   "execution_count": 169,
   "metadata": {},
   "outputs": [],
   "source": [
    "k = {8:8, 11:3, 23:2}"
   ]
  },
  {
   "cell_type": "code",
   "execution_count": 170,
   "metadata": {},
   "outputs": [
    {
     "data": {
      "text/plain": [
       "dict_values([8, 3, 2])"
      ]
     },
     "execution_count": 170,
     "metadata": {},
     "output_type": "execute_result"
    }
   ],
   "source": [
    "k.values()"
   ]
  },
  {
   "cell_type": "code",
   "execution_count": 171,
   "metadata": {},
   "outputs": [
    {
     "data": {
      "text/plain": [
       "[(23, 2), (11, 3), (8, 8)]"
      ]
     },
     "execution_count": 171,
     "metadata": {},
     "output_type": "execute_result"
    }
   ],
   "source": [
    "sorted(k.items(), key = lambda kv:(kv[1], kv[0]))"
   ]
  },
  {
   "cell_type": "code",
   "execution_count": null,
   "metadata": {},
   "outputs": [],
   "source": []
  }
 ],
 "metadata": {
  "kernelspec": {
   "display_name": "Python 3",
   "language": "python",
   "name": "python3"
  },
  "language_info": {
   "codemirror_mode": {
    "name": "ipython",
    "version": 3
   },
   "file_extension": ".py",
   "mimetype": "text/x-python",
   "name": "python",
   "nbconvert_exporter": "python",
   "pygments_lexer": "ipython3",
   "version": "3.6.8"
  }
 },
 "nbformat": 4,
 "nbformat_minor": 2
}
