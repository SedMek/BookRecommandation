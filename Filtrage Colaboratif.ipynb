{
 "cells": [
  {
   "cell_type": "code",
   "execution_count": 1,
   "metadata": {},
   "outputs": [],
   "source": [
    "import pandas as pd\n",
    "import numpy as np\n",
    "import matplotlib.pyplot as plt\n",
    "from sklearn import model_selection\n",
    "import matplotlib.pyplot as plt"
   ]
  },
  {
   "cell_type": "markdown",
   "metadata": {},
   "source": [
    "# Data Setup and Analysis"
   ]
  },
  {
   "cell_type": "code",
   "execution_count": 2,
   "metadata": {
    "scrolled": true
   },
   "outputs": [],
   "source": [
    "# Reading rating file\n",
    "ratings = pd.read_csv('Data/BX-Book-Ratings.csv', sep=';', encoding='latin-1')\n",
    "\n",
    "# Reading users file\n",
    "users = pd.read_csv('Data/BX-Users.csv', sep=';', encoding='latin-1')\n",
    "\n",
    "# Reading movies file\n",
    "books = pd.read_csv('Data/BX-Books.csv',  sep=';', encoding='latin-1')"
   ]
  },
  {
   "cell_type": "code",
   "execution_count": 3,
   "metadata": {},
   "outputs": [
    {
     "name": "stdout",
     "output_type": "stream",
     "text": [
      "Number of users: 278858\n",
      "Number of ratings 1149780\n"
     ]
    }
   ],
   "source": [
    "n_users = users['User-ID'].size\n",
    "n_ratings = ratings['User-ID'].size\n",
    "print('Number of users:', n_users)\n",
    "print('Number of ratings', n_ratings)"
   ]
  },
  {
   "cell_type": "code",
   "execution_count": 4,
   "metadata": {},
   "outputs": [],
   "source": [
    "# Data repartition\n",
    "\n",
    "user_count = {}\n",
    "ratings_count = np.zeros(11)\n",
    "maximum = 0\n",
    "ID = -1\n",
    "\n",
    "for i in range(0,n_users):\n",
    "    user_count[i+1] = 0\n",
    "\n",
    "for element in ratings.values:\n",
    "    user, ISBN, rating = element\n",
    "    user_count[user]+=1\n",
    "    ratings_count[rating]+=1\n",
    "    if user_count[user]>maximum:\n",
    "        maximum = user_count[user]\n",
    "        ID = user"
   ]
  },
  {
   "cell_type": "code",
   "execution_count": 5,
   "metadata": {},
   "outputs": [],
   "source": [
    "val = np.zeros(maximum+1)\n",
    "for i in range(len(val)):\n",
    "    val[i]=i\n",
    "num = np.zeros(maximum+1)\n",
    "for i in user_count:\n",
    "    num[user_count[i]]+=1"
   ]
  },
  {
   "cell_type": "code",
   "execution_count": 6,
   "metadata": {},
   "outputs": [
    {
     "data": {
      "image/png": "[encoded data removed]",
      "text/plain": [
       "<Figure size 432x288 with 1 Axes>"
      ]
     },
     "metadata": {
      "needs_background": "light"
     },
     "output_type": "display_data"
    }
   ],
   "source": [
    "plt.bar(val[0:11],num[0:11])\n",
    "plt.show()"
   ]
  },
  {
   "cell_type": "code",
   "execution_count": 7,
   "metadata": {},
   "outputs": [
    {
     "name": "stdout",
     "output_type": "stream",
     "text": [
      "Number of users with 5 ratings or more: 22816\n"
     ]
    }
   ],
   "source": [
    "cc = 0\n",
    "k = 0\n",
    "for i in num:\n",
    "    if k>=5:\n",
    "        cc += int(i)\n",
    "    k+=1\n",
    "print('Number of users with 5 ratings or more:',cc)"
   ]
  },
  {
   "cell_type": "markdown",
   "metadata": {},
   "source": [
    "Most users only have 0 or 1 rating\n",
    "\n",
    "=> We chose to train and evaluate the model on users with more than 5 ratings"
   ]
  },
  {
   "cell_type": "code",
   "execution_count": 8,
   "metadata": {},
   "outputs": [
    {
     "data": {
      "text/plain": [
       "<BarContainer object of 11 artists>"
      ]
     },
     "execution_count": 8,
     "metadata": {},
     "output_type": "execute_result"
    },
    {
     "data": {
      "image/png": "[encoded data removed]",
      "text/plain": [
       "<Figure size 432x288 with 1 Axes>"
      ]
     },
     "metadata": {
      "needs_background": "light"
     },
     "output_type": "display_data"
    }
   ],
   "source": [
    "# rating repartition\n",
    "\n",
    "plt.bar(range(11),ratings_count)"
   ]
  },
  {
   "cell_type": "markdown",
   "metadata": {},
   "source": [
    "0 ratings dominant and seem unrealistic\n",
    "\n",
    "=> delete all the 0 ratings"
   ]
  },
  {
   "cell_type": "markdown",
   "metadata": {},
   "source": [
    "# Data Clearing"
   ]
  },
  {
   "cell_type": "code",
   "execution_count": 9,
   "metadata": {},
   "outputs": [],
   "source": [
    "min_val = 5\n",
    "min_ratings = 5"
   ]
  },
  {
   "cell_type": "code",
   "execution_count": 10,
   "metadata": {},
   "outputs": [],
   "source": [
    "cleaned_data = ratings.copy()\n",
    "cleaned_users = users.copy()\n",
    "cleaned_books = books.copy()"
   ]
  },
  {
   "cell_type": "code",
   "execution_count": 11,
   "metadata": {},
   "outputs": [],
   "source": [
    "# Delete all 0 ratings\n",
    "cleaned_data = cleaned_data[ cleaned_data['Book-Rating']>0]\n",
    "\n",
    "# Delete books with less than min_ratings ratings\n",
    "ratings_per_book =  cleaned_data['ISBN'].value_counts()\n",
    "cleaned_data = cleaned_data[cleaned_data['ISBN'].isin(ratings_per_book.index[ratings_per_book.values >= min_val])]"
   ]
  },
  {
   "cell_type": "code",
   "execution_count": 12,
   "metadata": {},
   "outputs": [],
   "source": [
    "# Number of ratings per user\n",
    "ratings_per_user = cleaned_data['User-ID'].value_counts()\n",
    "ratings_per_book = cleaned_data['ISBN'].value_counts()"
   ]
  },
  {
   "cell_type": "code",
   "execution_count": 13,
   "metadata": {},
   "outputs": [],
   "source": [
    "# Users with more than min_val ratings\n",
    "cleaned_data = cleaned_data[cleaned_data['User-ID'].isin(ratings_per_user.index[ratings_per_user.values >= min_val])]"
   ]
  },
  {
   "cell_type": "code",
   "execution_count": null,
   "metadata": {},
   "outputs": [],
   "source": []
  },
  {
   "cell_type": "code",
   "execution_count": 75,
   "metadata": {},
   "outputs": [],
   "source": [
    "mat_train  = pd.pivot_table(cleaned_data, values='Book-Rating', index='User-ID', columns='ISBN')"
   ]
  },
  {
   "cell_type": "code",
   "execution_count": 134,
   "metadata": {},
   "outputs": [],
   "source": [
    "means = {}\n",
    "idx = mat_train.index\n",
    "for i in idx:\n",
    "    means[i] = np.nanmean(mat_train[mat_train.index==i])"
   ]
  },
  {
   "cell_type": "code",
   "execution_count": 152,
   "metadata": {},
   "outputs": [],
   "source": [
    "ISBN_means = {}\n",
    "ISBN_list = mat_train.columns\n",
    "for i in ISBN_list:\n",
    "    ISBN_means[i] = np.nanmean(mat_train[i].values)"
   ]
  },
  {
   "cell_type": "markdown",
   "metadata": {},
   "source": [
    "# User - User"
   ]
  },
  {
   "cell_type": "code",
   "execution_count": 102,
   "metadata": {},
   "outputs": [],
   "source": [
    "from scipy.stats import pearsonr as psr"
   ]
  },
  {
   "cell_type": "code",
   "execution_count": 103,
   "metadata": {},
   "outputs": [],
   "source": [
    "def pearsons(user1, user2):\n",
    "    return psr(user1[0], user2[0])[0]"
   ]
  },
  {
   "cell_type": "markdown",
   "metadata": {},
   "source": [
    "#### Etape 3 :  Faire les prédictions en utilisant la formule vue en cours\n",
    "\n",
    "La note de l'utilisateur $u$ sur l'élément $m$ est calculée comme :\n",
    "$$ pred(u,m) = \\bar{r}_u + \\sum_j sim(u,u_j) (r_{j,m} - \\bar{r}_j)$$, la somme sur les utilisateurs qui ont jugé $m$.\n"
   ]
  },
  {
   "cell_type": "code",
   "execution_count": null,
   "metadata": {},
   "outputs": [],
   "source": [
    "def predict(user):\n",
    "    for i in ISBN_list:\n",
    "        prediction = pred\n",
    "pred(u,m)"
   ]
  },
  {
   "cell_type": "code",
   "execution_count": null,
   "metadata": {},
   "outputs": [],
   "source": [
    "def find_closest(user, k, data, n_user):\n",
    "    closest = np.zeros(k)\n",
    "    sim = {}\n",
    "    for user2 in data:\n",
    "        score = pearsons(user, data[data.index=user2].values[0])\n",
    "        sim[user]=score\n",
    "    sim = sorted(sim.values)"
   ]
  },
  {
   "cell_type": "code",
   "execution_count": 169,
   "metadata": {},
   "outputs": [],
   "source": [
    "k = {8:8, 11:3, 23:2}"
   ]
  },
  {
   "cell_type": "code",
   "execution_count": 170,
   "metadata": {},
   "outputs": [
    {
     "data": {
      "text/plain": [
       "dict_values([8, 3, 2])"
      ]
     },
     "execution_count": 170,
     "metadata": {},
     "output_type": "execute_result"
    }
   ],
   "source": [
    "k.values()"
   ]
  },
  {
   "cell_type": "code",
   "execution_count": 171,
   "metadata": {},
   "outputs": [
    {
     "data": {
      "text/plain": [
       "[(23, 2), (11, 3), (8, 8)]"
      ]
     },
     "execution_count": 171,
     "metadata": {},
     "output_type": "execute_result"
    }
   ],
   "source": [
    "sorted(k.items(), key = lambda kv:(kv[1], kv[0]))"
   ]
  },
  {
   "cell_type": "code",
   "execution_count": null,
   "metadata": {},
   "outputs": [],
   "source": []
  }
 ],
 "metadata": {
  "kernelspec": {
   "display_name": "Python 3",
   "language": "python",
   "name": "python3"
  },
  "language_info": {
   "codemirror_mode": {
    "name": "ipython",
    "version": 3
   },
   "file_extension": ".py",
   "mimetype": "text/x-python",
   "name": "python",
   "nbconvert_exporter": "python",
   "pygments_lexer": "ipython3",
   "version": "3.6.8"
  }
 },
 "nbformat": 4,
 "nbformat_minor": 2
}
